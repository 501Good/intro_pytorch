{
  "nbformat": 4,
  "nbformat_minor": 0,
  "metadata": {
    "colab": {
      "provenance": []
    },
    "kernelspec": {
      "name": "python3",
      "display_name": "Python 3"
    },
    "language_info": {
      "name": "python"
    }
  },
  "cells": [
    {
      "cell_type": "code",
      "source": [
        "!pip install --quiet transformers timm"
      ],
      "metadata": {
        "id": "Vmkz-2BgwxXu"
      },
      "execution_count": null,
      "outputs": []
    },
    {
      "cell_type": "code",
      "execution_count": null,
      "metadata": {
        "id": "Kyui0pRFwlZv"
      },
      "outputs": [],
      "source": [
        "from transformers import AutoImageProcessor, AutoModelForObjectDetection\n",
        "import cv2\n",
        "import matplotlib.pyplot as plt\n",
        "import torch\n",
        "from PIL import Image, ImageDraw\n",
        "import numpy as np\n",
        "import requests"
      ]
    },
    {
      "cell_type": "code",
      "source": [
        "# Detect the current device\n",
        "device = torch.device('cuda') if torch.cuda.is_available() else torch.device('cpu')\n",
        "print(device)"
      ],
      "metadata": {
        "id": "DPcCo5Xow8WW"
      },
      "execution_count": null,
      "outputs": []
    },
    {
      "cell_type": "code",
      "source": [
        "model_name = \"facebook/detr-resnet-50\"\n",
        "\n",
        "# Load the image processor to apply all the necessary transformations\n",
        "processor = AutoImageProcessor.from_pretrained(model_name)\n",
        "\n",
        "# Load the model from the Hugging Face Hub\n",
        "model = AutoModelForObjectDetection.from_pretrained(model_name)\n",
        "\n",
        "# Put the model into the evaluation mode and transfer it to the current device\n",
        "model.eval().to(device);"
      ],
      "metadata": {
        "id": "GmbaTzOFxG72"
      },
      "execution_count": null,
      "outputs": []
    },
    {
      "cell_type": "code",
      "source": [
        "# Download the image from the web\n",
        "url = \"https://www.purina.co.uk/sites/default/files/2023-03/Hero%20Pedigree%20Cats.jpg\"\n",
        "image = Image.open(requests.get(url, stream=True).raw)"
      ],
      "metadata": {
        "id": "CvVxewKmxsYI"
      },
      "execution_count": null,
      "outputs": []
    },
    {
      "cell_type": "code",
      "source": [
        "# Visualize the image\n",
        "image"
      ],
      "metadata": {
        "id": "BnHkHp8ZxJkU"
      },
      "execution_count": null,
      "outputs": []
    },
    {
      "cell_type": "code",
      "source": [
        "# Turn off the gradients since we are not training anything\n",
        "with torch.inference_mode():\n",
        "    # Apply the neccessary transformations to the image\n",
        "    inputs = processor(images=image, return_tensors=\"pt\")\n",
        "    # Put the image through the model to get the predictions\n",
        "    outputs = model(**inputs.to(device))\n",
        "    # Get the target size of the image to map the predictions\n",
        "    target_sizes = torch.tensor([image.size[::-1]])\n",
        "    # Post-process the predictions and save the results\n",
        "    results = processor.post_process_object_detection(outputs, threshold=0.5, target_sizes=target_sizes)[0]"
      ],
      "metadata": {
        "id": "AStzbO2Nx3vJ"
      },
      "execution_count": null,
      "outputs": []
    },
    {
      "cell_type": "code",
      "source": [
        "# Print out the results\n",
        "for score, label, box in zip(results[\"scores\"], results[\"labels\"], results[\"boxes\"]):\n",
        "    box = [round(i, 2) for i in box.tolist()]\n",
        "    print(\n",
        "        f\"Detected {model.config.id2label[label.item()]} with confidence \"\n",
        "        f\"{round(score.item(), 3)} at location {box}\"\n",
        "    )"
      ],
      "metadata": {
        "id": "vMFsxq7UyBhf"
      },
      "execution_count": null,
      "outputs": []
    },
    {
      "cell_type": "code",
      "source": [
        "# Visualize the predictions\n",
        "draw = ImageDraw.Draw(image)\n",
        "\n",
        "for score, label, box in zip(results[\"scores\"], results[\"labels\"], results[\"boxes\"]):\n",
        "    box = [round(i, 2) for i in box.tolist()]\n",
        "    x, y, x2, y2 = tuple(box)\n",
        "    draw.rectangle((x, y, x2, y2), outline=\"red\", width=1)\n",
        "    draw.text((x, y), model.config.id2label[label.item()], fill=\"black\")\n",
        "\n",
        "image"
      ],
      "metadata": {
        "id": "SxDhU7I_yKE_"
      },
      "execution_count": null,
      "outputs": []
    },
    {
      "cell_type": "code",
      "source": [
        "# Project Task\n",
        "# Make a pipeline to get a YouTube video from the URL and then detect all the objects on it\n",
        "\n",
        "# You can use pytube package (https://pytube.io/en/latest/) that you can install by\n",
        "# !pip install git+https://github.com/ytdl-org/ytdl-nightly.git\n",
        "# !pip install pytube\n",
        "\n",
        "# Then, you download the video and read it frame by frame with opencv (https://docs.opencv.org/4.x/dd/d43/tutorial_py_video_display.html)\n",
        "# For each frame you predict the objects and draw the boundaries around them and write them to the output video (you might want to use FMP4 codec for that)"
      ],
      "metadata": {
        "id": "LZD0_URCyNaG"
      },
      "execution_count": null,
      "outputs": []
    },
    {
      "cell_type": "code",
      "source": [
        "!pip install --quiet git+https://github.com/ytdl-org/ytdl-nightly.git\n",
        "!pip install --quiet pytube"
      ],
      "metadata": {
        "id": "wMkOITK73wEG"
      },
      "execution_count": null,
      "outputs": []
    },
    {
      "cell_type": "code",
      "source": [
        "from pytube import YouTube\n",
        "\n",
        "yt = YouTube(\"https://www.youtube.com/watch?v=dQw4w9WgXcQ\")"
      ],
      "metadata": {
        "id": "xk91Bu1W4AiG"
      },
      "execution_count": null,
      "outputs": []
    },
    {
      "cell_type": "code",
      "source": [],
      "metadata": {
        "id": "8kuCrDv_4be1"
      },
      "execution_count": null,
      "outputs": []
    }
  ]
}